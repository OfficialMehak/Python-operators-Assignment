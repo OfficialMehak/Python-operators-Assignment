{
 "cells": [
  {
   "cell_type": "markdown",
   "id": "34a0f12e",
   "metadata": {},
   "source": [
    "### 1. Calculate the sum, difference, product, and quotient of two numbers."
   ]
  },
  {
   "cell_type": "code",
   "execution_count": null,
   "id": "71f0e03a",
   "metadata": {},
   "outputs": [
    {
     "ename": "",
     "evalue": "",
     "output_type": "error",
     "traceback": [
      "\u001b[1;31mFailed to start the Kernel. \n",
      "\u001b[1;31mUnable to start Kernel 'base (Python 3.11.5)' due to a timeout waiting for the ports to get used. \n",
      "\u001b[1;31mView Jupyter <a href='command:jupyter.viewOutput'>log</a> for further details."
     ]
    }
   ],
   "source": [
    "\n",
    "# Solution\n",
    "a = 10\n",
    "b = 5\n",
    "sum_result = a + b\n",
    "difference = a - b\n",
    "product = a * b\n",
    "quotient = a / b\n",
    "\n",
    "print(f\"Sum: {sum_result}, Difference: {difference}, Product: {product}, Quotient: {quotient}\")\n"
   ]
  },
  {
   "cell_type": "markdown",
   "id": "9371d487",
   "metadata": {},
   "source": [
    "### 2. Perform various assignment operations on a variable."
   ]
  },
  {
   "cell_type": "code",
   "execution_count": null,
   "id": "27898564",
   "metadata": {},
   "outputs": [],
   "source": [
    "\n",
    "# Solution\n",
    "x = 10\n",
    "print(f\"Initial value: {x}\")\n",
    "x += 5\n",
    "print(f\"After addition: {x}\")\n",
    "x -= 3\n",
    "print(f\"After subtraction: {x}\")\n",
    "x *= 2\n",
    "print(f\"After multiplication: {x}\")\n",
    "x /= 4\n",
    "print(f\"After division: {x}\")\n"
   ]
  },
  {
   "cell_type": "markdown",
   "id": "94b0cad8",
   "metadata": {},
   "source": [
    "### 3. Compare two numbers and print the results."
   ]
  },
  {
   "cell_type": "code",
   "execution_count": null,
   "id": "ed7f7f2d",
   "metadata": {},
   "outputs": [],
   "source": [
    "\n",
    "# Solution\n",
    "a = 15\n",
    "b = 20\n",
    "print(f\"a > b: {a > b}\")\n",
    "print(f\"a < b: {a < b}\")\n",
    "print(f\"a == b: {a == b}\")\n",
    "print(f\"a != b: {a != b}\")\n",
    "print(f\"a >= b: {a >= b}\")\n",
    "print(f\"a <= b: {a <= b}\")\n"
   ]
  },
  {
   "cell_type": "markdown",
   "id": "1c8ebe6f",
   "metadata": {},
   "source": [
    "### 4. Check conditions using logical operators."
   ]
  },
  {
   "cell_type": "code",
   "execution_count": null,
   "id": "a29b1166",
   "metadata": {},
   "outputs": [],
   "source": [
    "\n",
    "# Solution\n",
    "x = 10\n",
    "y = 20\n",
    "z = 30\n",
    "print(f\"x > y and y < z: {x > y and y < z}\")\n",
    "print(f\"x < y or y > z: {x < y or y > z}\")\n",
    "print(f\"not(x > y): {not(x > y)}\")\n"
   ]
  },
  {
   "cell_type": "markdown",
   "id": "7b004671",
   "metadata": {},
   "source": [
    "### 5. Check the identity of variables."
   ]
  },
  {
   "cell_type": "code",
   "execution_count": null,
   "id": "13714521",
   "metadata": {},
   "outputs": [],
   "source": [
    "\n",
    "# Solution\n",
    "a = 10\n",
    "b = 10\n",
    "c = 20\n",
    "print(f\"a is b: {a is b}\")\n",
    "print(f\"a is not c: {a is not c}\")\n"
   ]
  },
  {
   "cell_type": "markdown",
   "id": "6c515272",
   "metadata": {},
   "source": [
    "### 6. Use unary operators to change the sign of a number."
   ]
  },
  {
   "cell_type": "code",
   "execution_count": null,
   "id": "a7aafcf7",
   "metadata": {},
   "outputs": [],
   "source": [
    "\n",
    "# Solution\n",
    "num = 25\n",
    "print(f\"Original number: {num}\")\n",
    "num = -num\n",
    "print(f\"After using unary operator: {num}\")\n"
   ]
  },
  {
   "cell_type": "markdown",
   "id": "5f9757b3",
   "metadata": {},
   "source": [
    "### 7. Perform bitwise operations on any two integers."
   ]
  },
  {
   "cell_type": "code",
   "execution_count": null,
   "id": "841ed195",
   "metadata": {},
   "outputs": [],
   "source": [
    "\n",
    "# Solution\n",
    "a = 12  # 1100 in binary\n",
    "b = 6   # 0110 in binary\n",
    "print(f\"Bitwise AND (a & b): {a & b}\")\n",
    "print(f\"Bitwise OR (a | b): {a | b}\")\n",
    "print(f\"Bitwise XOR (a ^ b): {a ^ b}\")\n",
    "print(f\"Bitwise NOT (~a): {~a}\")\n",
    "print(f\"Left shift (a << 1): {a << 1}\")\n",
    "print(f\"Right shift (a >> 1): {a >> 1}\")\n"
   ]
  },
  {
   "cell_type": "markdown",
   "id": "0e25dae4",
   "metadata": {},
   "source": [
    "### 8. Use the ternary operator to assign values based on conditions."
   ]
  },
  {
   "cell_type": "code",
   "execution_count": null,
   "id": "decff937",
   "metadata": {},
   "outputs": [],
   "source": [
    "\n",
    "# Solution\n",
    "a = 10\n",
    "b = 20\n",
    "max_value = a if a > b else b\n",
    "print(f\"The maximum value is: {max_value}\")\n"
   ]
  }
 ],
 "metadata": {
  "kernelspec": {
   "display_name": "base",
   "language": "python",
   "name": "python3"
  },
  "language_info": {
   "name": "python",
   "version": "3.11.5"
  }
 },
 "nbformat": 4,
 "nbformat_minor": 5
}
